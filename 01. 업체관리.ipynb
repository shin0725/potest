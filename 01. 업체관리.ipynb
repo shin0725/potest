from selenium import webdriver
from selenium.webdriver.common.by import By
from selenium.webdriver.support.ui import WebDriverWait
from selenium.webdriver.support import expected_conditions as EC
import time

class PartnerOfficeLogin:
    def __init__(self, driver_path=None):
        self.driver_path = driver_path
        self.driver = None
        # XPath 선택자 변수
        self.username_selector = '//*[@id="loginId"]'  # 아이디 입력 필드의 XPath
        self.password_selector = '//*[@id="password"]'  # 비밀번호 입력 필드의 XPath
        self.login_button_selector = '//*[@id="__next"]/div/section/div/div/section/div/div/div[2]/form/div/button' # 로그인 버튼의 XPath

    def open_browser(self):
        """Chrome 브라우저를 엽니다."""
        if self.driver_path:
            self.driver = webdriver.Chrome(executable_path=self.driver_path)
        else:
            self.driver = webdriver.Chrome()
        print("Chrome 브라우저가 열렸습니다.")

    def load_url(self, url):
        """지정된 URL을 로드합니다."""
        if self.driver:
            self.driver.get(url)
            print(f"{url} 페이지가 로드되었습니다.")
        else:
            print("먼저 open_browser 메서드를 호출하여 브라우저를 여세요.")

    def login(self, username, password):
        """
        로그인 작업을 수행합니다.
        :param username: 사용자 아이디
        :param password: 사용자 비밀번호
        """
        
        if not self.driver:
            print("먼저 open_browser 메서드를 호출하여 브라우저를 여세요.")
            return
        
        # 아이디 입력 (명시적 대기)
        username_field = WebDriverWait(self.driver, 10).until(
            EC.presence_of_element_located((By.XPATH, self.username_selector))
        )
        username_field.clear()
        username_field.send_keys(username)
        print("아이디가 입력되었습니다.")

        # 비밀번호 입력 (명시적 대기)
        password_field = WebDriverWait(self.driver, 10).until(
            EC.presence_of_element_located((By.XPATH, self.password_selector))
        )
        password_field.clear()
        password_field.send_keys(password)
        print("비밀번호가 입력되었습니다.")

        # 로그인 버튼 클릭 (명시적 대기)
        login_button = WebDriverWait(self.driver, 10).until(
            EC.element_to_be_clickable((By.XPATH, self.login_button_selector))
        )
        login_button.click()
        print("로그인 버튼이 클릭되었습니다.")

        # 잠시 대기 (페이지가 로드될 시간을 주기 위해)
        time.sleep(3)

    def close_browser(self):
        """Chrome 브라우저를 닫습니다."""
        if self.driver:
            self.driver.quit()
            print("Chrome 브라우저가 닫혔습니다.")
        else:
            print("브라우저가 열려있지 않습니다.")


# 사용 예제 - 여기서 login_automation 객체를 정의하고 사용합니다.

# 1. PartnerOfficeLogin 클래스의 객체 생성
login_automation = PartnerOfficeLogin()

# 2. 브라우저 열기
login_automation.open_browser()

# 3. 로그인 페이지 로드
login_automation.load_url("https://partner-qa1.co.kr/auth/login")

# 4. 로그인 수행
username = "id"  # 여기에 아이디를 입력
password = "password"  # 여기에 비밀번호를 입력
login_automation.login(username, password)

# 5. 브라우저 닫기
login_automation.close_browser()
